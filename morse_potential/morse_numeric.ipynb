{
 "cells": [
  {
   "cell_type": "code",
   "execution_count": 2,
   "metadata": {
    "collapsed": true
   },
   "outputs": [],
   "source": [
    "from __future__ import division\n",
    "import numpy as np\n",
    "import scipy\n",
    "import matplotlib.pyplot as plt"
   ]
  },
  {
   "cell_type": "code",
   "execution_count": 3,
   "metadata": {
    "collapsed": true
   },
   "outputs": [],
   "source": [
    "#%matplotlib notebook\n",
    "%matplotlib inline"
   ]
  },
  {
   "cell_type": "markdown",
   "metadata": {},
   "source": [
    "# The Morse Potential $\\require{mhchem}$\n",
    "Adapted by S Singleton from *Exploring the Morse Potential*, T. Zielenski, http://pubs.acs.org/doi/abs/10.1021/ed075p1191.1 (please respect the copyright of the original author and publisher). \n",
    "\n",
    "Comments or suggestions related to this notebook can be submitted at github."
   ]
  },
  {
   "cell_type": "markdown",
   "metadata": {},
   "source": [
    "The [Morse potential]( https://en.wikipedia.org/wiki/Morse_potential) can provide a crude but useful approximation of a molecular bond. HCl is modeled in this notebook.\n",
    "\n",
    "This [Wikipedia image](https://en.wikipedia.org/wiki/File:Morse-potential.png) depicts the geometry of a vibrating HCl molecule and compares the the Morse potential to the simple harmonic oscillator (SHO). Notice the SHO model does not allow for the bond to break at large distances, whereas the Morse potential does.\n",
    "\n",
    "<img src=\"600px-Morse-potential.png\", width=400>"
   ]
  },
  {
   "cell_type": "markdown",
   "metadata": {},
   "source": [
    "### CTQ\n",
    "Identify the axes in this plot and explain their connection to physical properties of the HCl molecule. For example, what happens at large values of $r$? What about small values of $r$? Why?"
   ]
  },
  {
   "cell_type": "code",
   "execution_count": null,
   "metadata": {
    "collapsed": true
   },
   "outputs": [],
   "source": []
  },
  {
   "cell_type": "markdown",
   "metadata": {},
   "source": [
    "### CTQ\n",
    "What does $r_e$ represent in the figure above?"
   ]
  },
  {
   "cell_type": "code",
   "execution_count": null,
   "metadata": {
    "collapsed": true
   },
   "outputs": [],
   "source": []
  },
  {
   "cell_type": "markdown",
   "metadata": {},
   "source": [
    "### CTQ\n",
    "Describe the similarities and differences between the harmonic oscillator (green curve) and Morse oscillator (blue curve)."
   ]
  },
  {
   "cell_type": "code",
   "execution_count": null,
   "metadata": {
    "collapsed": true
   },
   "outputs": [],
   "source": []
  },
  {
   "cell_type": "markdown",
   "metadata": {},
   "source": [
    "## Constants of Diatomic Molecules\n",
    "The NIST Chemistry Webbook lists the spectroscopic constants for many molecules. The numbers below come from the $X^1\\Sigma$ (ground) state of [$\\ce{H^{35}Cl}$](http://webbook.nist.gov/cgi/inchi/InChI%3D1S/ClH/h1H) in the section \"constants of diatomic molecules\". Notice the constants for HCl depend on the electronic state, so choose the correct one in your work. The electronic states are ordered by energy with the ground state at the bottom of the table."
   ]
  },
  {
   "cell_type": "markdown",
   "metadata": {},
   "source": [
    "The equilibrium vibrational constant $\\omega_e$ is given with units of wavenumbers, cm$^{-1}$, which must be converted to inverse meters for use in equations with SI constants. Locate $\\omega_e$ for the ground state in NIST table."
   ]
  },
  {
   "cell_type": "code",
   "execution_count": 4,
   "metadata": {
    "collapsed": true
   },
   "outputs": [],
   "source": [
    "we = 2.990e3 * 1e2  # cm^-1 -> m^-1"
   ]
  },
  {
   "cell_type": "markdown",
   "metadata": {},
   "source": [
    "The [anharmonicity constant](http://chemwiki.ucdavis.edu/Physical_Chemistry/Quantum_Mechanics/06._One_Dimensional_Harmonic_Oscillator/Harmonic_Oscillator/Anharmonic_Oscillator) $\\omega_e\\chi_e$ also has units of wavenumbers. Locate this constant in the NIST table."
   ]
  },
  {
   "cell_type": "code",
   "execution_count": 5,
   "metadata": {
    "collapsed": true
   },
   "outputs": [],
   "source": [
    "wexe = 52.8186 * 1e2 # cm^-1 -> m^-1"
   ]
  },
  {
   "cell_type": "markdown",
   "metadata": {},
   "source": [
    "Several physical constants are available in the `scipy` python module."
   ]
  },
  {
   "cell_type": "code",
   "execution_count": 6,
   "metadata": {},
   "outputs": [
    {
     "data": {
      "text/plain": [
       "(299792458.0, 6.62607004e-34, 6.022140857e+23)"
      ]
     },
     "execution_count": 6,
     "metadata": {},
     "output_type": "execute_result"
    }
   ],
   "source": [
    "from scipy.constants import Planck, speed_of_light, Avogadro\n",
    "c, h, Na = speed_of_light, Planck, Avogadro  # SI units\n",
    "c, h, Na"
   ]
  },
  {
   "cell_type": "markdown",
   "metadata": {},
   "source": [
    "Equilibrium bond length $R_e$ of HCl from the NIST Webbook. Note the units."
   ]
  },
  {
   "cell_type": "code",
   "execution_count": 7,
   "metadata": {
    "collapsed": true
   },
   "outputs": [],
   "source": [
    "Re = 1.27455e-8 * 1e-2   # cm -> m"
   ]
  },
  {
   "cell_type": "markdown",
   "metadata": {},
   "source": [
    "$D_0$ is depth of well in eV (the value was obtained from a textbook). Convert the units and realize that the result is for a *single molecule*."
   ]
  },
  {
   "cell_type": "code",
   "execution_count": 8,
   "metadata": {},
   "outputs": [
    {
     "name": "stdout",
     "output_type": "stream",
     "text": [
      "D0 = 7.106e-19 J\n"
     ]
    }
   ],
   "source": [
    "eV = 1.602e-19  # conversion factor for eV -> Joules\n",
    "D0 = 4.436 * eV  # eV -> J/molecule\n",
    "print(\"D0 = %.3e J\" % D0)"
   ]
  },
  {
   "cell_type": "markdown",
   "metadata": {},
   "source": [
    "## $E_{\\rm vib}$ for the quantum harmonic oscillator\n",
    "\n",
    "$E_{\\rm vib}(n)$ is the vibrational energy eigenvalue using the Morse potential. The second term is the anharmonicity.\n",
    "$$E_{\\rm vib}(n) = hc \\left [ \\left(n+\\frac{1}{2}\\right)\\omega_e - \\left(n+\\frac{1}{2}\\right)^2 \\omega_e \\chi_e \\right ]$$"
   ]
  },
  {
   "cell_type": "markdown",
   "metadata": {},
   "source": [
    "### CTQ\n",
    "Where is the zero point energy on the figure above?"
   ]
  },
  {
   "cell_type": "code",
   "execution_count": null,
   "metadata": {
    "collapsed": true
   },
   "outputs": [],
   "source": []
  },
  {
   "cell_type": "markdown",
   "metadata": {},
   "source": [
    "### CTQ\n",
    "Describe in words the difference between $D_0$ and $D_e$."
   ]
  },
  {
   "cell_type": "code",
   "execution_count": null,
   "metadata": {
    "collapsed": true
   },
   "outputs": [],
   "source": []
  },
  {
   "cell_type": "markdown",
   "metadata": {},
   "source": [
    "## Calculate $E_v$ for the quantum harmonic oscillator\n",
    "using a python function."
   ]
  },
  {
   "cell_type": "code",
   "execution_count": 9,
   "metadata": {
    "collapsed": true
   },
   "outputs": [],
   "source": [
    "def Evib(n):\n",
    "    '''Given an (integer) quantum number v, return the vibrational energy in joules.'''\n",
    "    return h*c * ( (n+0.5)*we - (n+0.5)**2 * wexe )"
   ]
  },
  {
   "cell_type": "markdown",
   "metadata": {},
   "source": [
    "Calculate the zero point energy."
   ]
  },
  {
   "cell_type": "code",
   "execution_count": 10,
   "metadata": {},
   "outputs": [
    {
     "data": {
      "text/plain": [
       "2.943506185284629e-20"
      ]
     },
     "execution_count": 10,
     "metadata": {},
     "output_type": "execute_result"
    }
   ],
   "source": [
    "Evib(0)  # J"
   ]
  },
  {
   "cell_type": "markdown",
   "metadata": {},
   "source": [
    "## Calculate the dissociation energy $D_e$\n",
    "\n",
    "which is $D_0$ plus the zero point energy\n",
    "\n",
    "$$D_e = D_0 + E_{\\rm vib}(0)$$"
   ]
  },
  {
   "cell_type": "code",
   "execution_count": 11,
   "metadata": {},
   "outputs": [
    {
     "data": {
      "text/plain": [
       "7.400822618528463e-19"
      ]
     },
     "execution_count": 11,
     "metadata": {},
     "output_type": "execute_result"
    }
   ],
   "source": [
    "De = D0 + Evib(0)  # J/molecule\n",
    "De"
   ]
  },
  {
   "cell_type": "markdown",
   "metadata": {},
   "source": [
    "Calculate reduced mass for HCl. This is a molecular mass, not a molar mass."
   ]
  },
  {
   "cell_type": "code",
   "execution_count": 12,
   "metadata": {},
   "outputs": [
    {
     "data": {
      "text/plain": [
       "1.6274546695622864e-27"
      ]
     },
     "execution_count": 12,
     "metadata": {},
     "output_type": "execute_result"
    }
   ],
   "source": [
    "mH = 1.00794e-3 / Na\n",
    "mCl = 35.453e-3 / Na\n",
    "mu = mH*mCl / (mH + mCl)  # kg/molecule\n",
    "mu"
   ]
  },
  {
   "cell_type": "markdown",
   "metadata": {},
   "source": [
    "The Morse potential as a function of distance is\n",
    "$$ E(r) = D_e \\left [ 1 - e^{-\\beta (r-R_e)}\\right ]^2 $$"
   ]
  },
  {
   "cell_type": "code",
   "execution_count": 13,
   "metadata": {},
   "outputs": [
    {
     "name": "stdout",
     "output_type": "stream",
     "text": [
      "beta: 1.86755e+10\n"
     ]
    }
   ],
   "source": [
    "beta = 2*np.pi*c*we * np.sqrt(mu/(2*De))  # m^-1\n",
    "print('beta: %.5e'%beta)"
   ]
  },
  {
   "cell_type": "code",
   "execution_count": 14,
   "metadata": {
    "collapsed": true
   },
   "outputs": [],
   "source": [
    "def E(r):\n",
    "    '''The Morse energy for harmonic oscillator at distance r'''\n",
    "    return De * (1 - np.exp(-beta*(r-Re)))**2"
   ]
  },
  {
   "cell_type": "markdown",
   "metadata": {},
   "source": [
    "Plot the potential as a function of $r$."
   ]
  },
  {
   "cell_type": "code",
   "execution_count": 15,
   "metadata": {
    "collapsed": true
   },
   "outputs": [],
   "source": [
    "r = np.linspace(0.08e-9, 0.6e-9, 100) # array of equally spaced r values"
   ]
  },
  {
   "cell_type": "code",
   "execution_count": 16,
   "metadata": {},
   "outputs": [
    {
     "data": {
      "text/plain": [
       "Text(0,0.5,'E(r) / J/molecule')"
      ]
     },
     "execution_count": 16,
     "metadata": {},
     "output_type": "execute_result"
    },
    {
     "data": {
      "image/png": "[encoded data removed]",
      "text/plain": [
       "<matplotlib.figure.Figure at 0x7fd16cf93278>"
      ]
     },
     "metadata": {},
     "output_type": "display_data"
    }
   ],
   "source": [
    "plt.plot(r, E(r))\n",
    "plt.xlabel('$(r-R_e)$/nm')\n",
    "plt.ylabel('E(r) / J/molecule')"
   ]
  },
  {
   "cell_type": "code",
   "execution_count": 17,
   "metadata": {
    "collapsed": true
   },
   "outputs": [],
   "source": [
    "plt.close()"
   ]
  },
  {
   "cell_type": "markdown",
   "metadata": {},
   "source": [
    "It might be useful to convert the energy per molecule to energy/mole."
   ]
  },
  {
   "cell_type": "markdown",
   "metadata": {},
   "source": [
    "## Extension exercises"
   ]
  },
  {
   "cell_type": "markdown",
   "metadata": {},
   "source": [
    "### python lambda functions\n",
    "One-line python functions can be defined using the `lambda` form. This is why the word \"lambda\" is not allowed as a python identifier (it's a keyword of the language). \n",
    "\n",
    "Here is the Morse function written as a [lambda](http://www.diveintopython.net/power_of_introspection/lambda_functions.html):"
   ]
  },
  {
   "cell_type": "code",
   "execution_count": 18,
   "metadata": {},
   "outputs": [
    {
     "data": {
      "text/plain": [
       "[<matplotlib.lines.Line2D at 0x7fd165d034a8>]"
      ]
     },
     "execution_count": 18,
     "metadata": {},
     "output_type": "execute_result"
    },
    {
     "data": {
      "image/png": "[encoded data removed]",
      "text/plain": [
       "<matplotlib.figure.Figure at 0x7fd165dd7cc0>"
      ]
     },
     "metadata": {},
     "output_type": "display_data"
    }
   ],
   "source": [
    "E_l = lambda r: De * (1 - np.exp(-beta*(r-Re)))**2\n",
    "\n",
    "plt.plot(r, E_l(r))"
   ]
  },
  {
   "cell_type": "markdown",
   "metadata": {},
   "source": [
    "### Exercise\n",
    "Plot the function $y = \\sin(x) * x^2$ from 0 to $4\\pi$ using a lambda function. (Make it a red, dashed line if you can.)"
   ]
  },
  {
   "cell_type": "code",
   "execution_count": 19,
   "metadata": {},
   "outputs": [
    {
     "data": {
      "text/plain": [
       "[<matplotlib.lines.Line2D at 0x7fd165ce1860>]"
      ]
     },
     "execution_count": 19,
     "metadata": {},
     "output_type": "execute_result"
    },
    {
     "data": {
      "image/png": "[encoded data removed]",
      "text/plain": [
       "<matplotlib.figure.Figure at 0x7fd165d935c0>"
      ]
     },
     "metadata": {},
     "output_type": "display_data"
    }
   ],
   "source": [
    "x = np.linspace(0, 4*np.pi, 100)\n",
    "y = lambda x: np.sin(x) * x** 2\n",
    "\n",
    "plt.plot(x, y(x), 'r--')"
   ]
  },
  {
   "cell_type": "markdown",
   "metadata": {
    "collapsed": true
   },
   "source": [
    "## Compare the harmonic and anharmonic oscillator potentials"
   ]
  }
 ],
 "metadata": {
  "kernelspec": {
   "display_name": "Python 3",
   "language": "python",
   "name": "python3"
  },
  "language_info": {
   "codemirror_mode": {
    "name": "ipython",
    "version": 3
   },
   "file_extension": ".py",
   "mimetype": "text/x-python",
   "name": "python",
   "nbconvert_exporter": "python",
   "pygments_lexer": "ipython3",
   "version": "3.6.2"
  }
 },
 "nbformat": 4,
 "nbformat_minor": 1
}
